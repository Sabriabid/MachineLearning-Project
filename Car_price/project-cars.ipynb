{
 "cells": [
  {
   "cell_type": "markdown",
   "id": "2591eab2",
   "metadata": {
    "papermill": {
     "duration": 0.014448,
     "end_time": "2022-11-14T22:29:28.671344",
     "exception": false,
     "start_time": "2022-11-14T22:29:28.656896",
     "status": "completed"
    },
    "tags": []
   },
   "source": [
    "# Car Prices"
   ]
  },
  {
   "cell_type": "markdown",
   "id": "629c332a",
   "metadata": {
    "papermill": {
     "duration": 0.014263,
     "end_time": "2022-11-14T22:29:28.698793",
     "exception": false,
     "start_time": "2022-11-14T22:29:28.684530",
     "status": "completed"
    },
    "tags": []
   },
   "source": [
    "🎯 This exercise consists of the data preparation and feature selection techniques you have learnt today to a new dataset.\n",
    "\n",
    "👇 Download the Cars.csv and place it in the data folder. Load into this notebook as a pandas dataframe named df, and display its first 5 rows."
   ]
  },
  {
   "cell_type": "code",
   "execution_count": 2,
   "id": "92895f3b",
   "metadata": {
    "execution": {
     "iopub.execute_input": "2022-11-14T22:29:28.779275Z",
     "iopub.status.busy": "2022-11-14T22:29:28.778844Z",
     "iopub.status.idle": "2022-11-14T22:29:28.843643Z",
     "shell.execute_reply": "2022-11-14T22:29:28.842289Z"
    },
    "papermill": {
     "duration": 0.082155,
     "end_time": "2022-11-14T22:29:28.846308",
     "exception": false,
     "start_time": "2022-11-14T22:29:28.764153",
     "status": "completed"
    },
    "tags": []
   },
   "outputs": [
    {
     "data": {
      "text/html": [
       "<div>\n",
       "<style scoped>\n",
       "    .dataframe tbody tr th:only-of-type {\n",
       "        vertical-align: middle;\n",
       "    }\n",
       "\n",
       "    .dataframe tbody tr th {\n",
       "        vertical-align: top;\n",
       "    }\n",
       "\n",
       "    .dataframe thead th {\n",
       "        text-align: right;\n",
       "    }\n",
       "</style>\n",
       "<table border=\"1\" class=\"dataframe\">\n",
       "  <thead>\n",
       "    <tr style=\"text-align: right;\">\n",
       "      <th></th>\n",
       "      <th>car_ID</th>\n",
       "      <th>symboling</th>\n",
       "      <th>CarName</th>\n",
       "      <th>fueltype</th>\n",
       "      <th>aspiration</th>\n",
       "      <th>doornumber</th>\n",
       "      <th>carbody</th>\n",
       "      <th>drivewheel</th>\n",
       "      <th>enginelocation</th>\n",
       "      <th>wheelbase</th>\n",
       "      <th>...</th>\n",
       "      <th>enginesize</th>\n",
       "      <th>fuelsystem</th>\n",
       "      <th>boreratio</th>\n",
       "      <th>stroke</th>\n",
       "      <th>compressionratio</th>\n",
       "      <th>horsepower</th>\n",
       "      <th>peakrpm</th>\n",
       "      <th>citympg</th>\n",
       "      <th>highwaympg</th>\n",
       "      <th>price</th>\n",
       "    </tr>\n",
       "  </thead>\n",
       "  <tbody>\n",
       "    <tr>\n",
       "      <th>0</th>\n",
       "      <td>1</td>\n",
       "      <td>3</td>\n",
       "      <td>alfa-romero giulia</td>\n",
       "      <td>gas</td>\n",
       "      <td>std</td>\n",
       "      <td>two</td>\n",
       "      <td>convertible</td>\n",
       "      <td>rwd</td>\n",
       "      <td>front</td>\n",
       "      <td>88.6</td>\n",
       "      <td>...</td>\n",
       "      <td>130</td>\n",
       "      <td>mpfi</td>\n",
       "      <td>3.47</td>\n",
       "      <td>2.68</td>\n",
       "      <td>9.0</td>\n",
       "      <td>111</td>\n",
       "      <td>5000</td>\n",
       "      <td>21</td>\n",
       "      <td>27</td>\n",
       "      <td>13495.0</td>\n",
       "    </tr>\n",
       "    <tr>\n",
       "      <th>1</th>\n",
       "      <td>2</td>\n",
       "      <td>3</td>\n",
       "      <td>alfa-romero stelvio</td>\n",
       "      <td>gas</td>\n",
       "      <td>std</td>\n",
       "      <td>two</td>\n",
       "      <td>convertible</td>\n",
       "      <td>rwd</td>\n",
       "      <td>front</td>\n",
       "      <td>88.6</td>\n",
       "      <td>...</td>\n",
       "      <td>130</td>\n",
       "      <td>mpfi</td>\n",
       "      <td>3.47</td>\n",
       "      <td>2.68</td>\n",
       "      <td>9.0</td>\n",
       "      <td>111</td>\n",
       "      <td>5000</td>\n",
       "      <td>21</td>\n",
       "      <td>27</td>\n",
       "      <td>16500.0</td>\n",
       "    </tr>\n",
       "    <tr>\n",
       "      <th>2</th>\n",
       "      <td>3</td>\n",
       "      <td>1</td>\n",
       "      <td>alfa-romero Quadrifoglio</td>\n",
       "      <td>gas</td>\n",
       "      <td>std</td>\n",
       "      <td>two</td>\n",
       "      <td>hatchback</td>\n",
       "      <td>rwd</td>\n",
       "      <td>front</td>\n",
       "      <td>94.5</td>\n",
       "      <td>...</td>\n",
       "      <td>152</td>\n",
       "      <td>mpfi</td>\n",
       "      <td>2.68</td>\n",
       "      <td>3.47</td>\n",
       "      <td>9.0</td>\n",
       "      <td>154</td>\n",
       "      <td>5000</td>\n",
       "      <td>19</td>\n",
       "      <td>26</td>\n",
       "      <td>16500.0</td>\n",
       "    </tr>\n",
       "    <tr>\n",
       "      <th>3</th>\n",
       "      <td>4</td>\n",
       "      <td>2</td>\n",
       "      <td>audi 100 ls</td>\n",
       "      <td>gas</td>\n",
       "      <td>std</td>\n",
       "      <td>four</td>\n",
       "      <td>sedan</td>\n",
       "      <td>fwd</td>\n",
       "      <td>front</td>\n",
       "      <td>99.8</td>\n",
       "      <td>...</td>\n",
       "      <td>109</td>\n",
       "      <td>mpfi</td>\n",
       "      <td>3.19</td>\n",
       "      <td>3.40</td>\n",
       "      <td>10.0</td>\n",
       "      <td>102</td>\n",
       "      <td>5500</td>\n",
       "      <td>24</td>\n",
       "      <td>30</td>\n",
       "      <td>13950.0</td>\n",
       "    </tr>\n",
       "    <tr>\n",
       "      <th>4</th>\n",
       "      <td>5</td>\n",
       "      <td>2</td>\n",
       "      <td>audi 100ls</td>\n",
       "      <td>gas</td>\n",
       "      <td>std</td>\n",
       "      <td>four</td>\n",
       "      <td>sedan</td>\n",
       "      <td>4wd</td>\n",
       "      <td>front</td>\n",
       "      <td>99.4</td>\n",
       "      <td>...</td>\n",
       "      <td>136</td>\n",
       "      <td>mpfi</td>\n",
       "      <td>3.19</td>\n",
       "      <td>3.40</td>\n",
       "      <td>8.0</td>\n",
       "      <td>115</td>\n",
       "      <td>5500</td>\n",
       "      <td>18</td>\n",
       "      <td>22</td>\n",
       "      <td>17450.0</td>\n",
       "    </tr>\n",
       "  </tbody>\n",
       "</table>\n",
       "<p>5 rows × 26 columns</p>\n",
       "</div>"
      ],
      "text/plain": [
       "   car_ID  symboling                   CarName fueltype aspiration doornumber  \\\n",
       "0       1          3        alfa-romero giulia      gas        std        two   \n",
       "1       2          3       alfa-romero stelvio      gas        std        two   \n",
       "2       3          1  alfa-romero Quadrifoglio      gas        std        two   \n",
       "3       4          2               audi 100 ls      gas        std       four   \n",
       "4       5          2                audi 100ls      gas        std       four   \n",
       "\n",
       "       carbody drivewheel enginelocation  wheelbase  ...  enginesize  \\\n",
       "0  convertible        rwd          front       88.6  ...         130   \n",
       "1  convertible        rwd          front       88.6  ...         130   \n",
       "2    hatchback        rwd          front       94.5  ...         152   \n",
       "3        sedan        fwd          front       99.8  ...         109   \n",
       "4        sedan        4wd          front       99.4  ...         136   \n",
       "\n",
       "   fuelsystem  boreratio  stroke compressionratio horsepower  peakrpm citympg  \\\n",
       "0        mpfi       3.47    2.68              9.0        111     5000      21   \n",
       "1        mpfi       3.47    2.68              9.0        111     5000      21   \n",
       "2        mpfi       2.68    3.47              9.0        154     5000      19   \n",
       "3        mpfi       3.19    3.40             10.0        102     5500      24   \n",
       "4        mpfi       3.19    3.40              8.0        115     5500      18   \n",
       "\n",
       "   highwaympg    price  \n",
       "0          27  13495.0  \n",
       "1          27  16500.0  \n",
       "2          26  16500.0  \n",
       "3          30  13950.0  \n",
       "4          22  17450.0  \n",
       "\n",
       "[5 rows x 26 columns]"
      ]
     },
     "execution_count": 2,
     "metadata": {},
     "output_type": "execute_result"
    }
   ],
   "source": [
    "import numpy as np # linear algebra\n",
    "import pandas as pd \n",
    "\n",
    "df=pd.read_csv(\"cars.csv\")\n",
    "df.head()"
   ]
  },
  {
   "cell_type": "markdown",
   "id": "9fbda6b9",
   "metadata": {
    "papermill": {
     "duration": 0.012715,
     "end_time": "2022-11-14T22:29:28.872178",
     "exception": false,
     "start_time": "2022-11-14T22:29:28.859463",
     "status": "completed"
    },
    "tags": []
   },
   "source": [
    "ℹ️ The description of the dataset is available . Make sure to use refer to it through the exercise."
   ]
  },
  {
   "cell_type": "markdown",
   "id": "1ce58fcc",
   "metadata": {
    "papermill": {
     "duration": 0.01307,
     "end_time": "2022-11-14T22:29:28.898429",
     "exception": false,
     "start_time": "2022-11-14T22:29:28.885359",
     "status": "completed"
    },
    "tags": []
   },
   "source": [
    "# Duplicates"
   ]
  },
  {
   "cell_type": "markdown",
   "id": "66c6b124",
   "metadata": {
    "papermill": {
     "duration": 0.012554,
     "end_time": "2022-11-14T22:29:28.924220",
     "exception": false,
     "start_time": "2022-11-14T22:29:28.911666",
     "status": "completed"
    },
    "tags": []
   },
   "source": [
    "👇 Remove the duplicates from the dataset if there are any. Overwite the dataframe `df`."
   ]
  },
  {
   "cell_type": "code",
   "execution_count": 3,
   "id": "dbdae92a",
   "metadata": {
    "execution": {
     "iopub.execute_input": "2022-11-14T22:29:28.954035Z",
     "iopub.status.busy": "2022-11-14T22:29:28.953621Z",
     "iopub.status.idle": "2022-11-14T22:29:28.975672Z",
     "shell.execute_reply": "2022-11-14T22:29:28.974298Z"
    },
    "papermill": {
     "duration": 0.040718,
     "end_time": "2022-11-14T22:29:28.978171",
     "exception": false,
     "start_time": "2022-11-14T22:29:28.937453",
     "status": "completed"
    },
    "tags": [
     "challengify"
    ]
   },
   "outputs": [
    {
     "data": {
      "text/plain": [
       "False    205\n",
       "dtype: int64"
      ]
     },
     "execution_count": 3,
     "metadata": {},
     "output_type": "execute_result"
    }
   ],
   "source": [
    "#ici on compte le nombre de duplicate\n",
    "dups=df.duplicated().value_counts()\n",
    "dups"
   ]
  },
  {
   "cell_type": "markdown",
   "id": "518d5912",
   "metadata": {
    "papermill": {
     "duration": 0.012877,
     "end_time": "2022-11-14T22:29:29.004544",
     "exception": false,
     "start_time": "2022-11-14T22:29:28.991667",
     "status": "completed"
    },
    "tags": []
   },
   "source": [
    "# Missing values"
   ]
  },
  {
   "cell_type": "markdown",
   "id": "a3deae3c",
   "metadata": {
    "papermill": {
     "duration": 0.013664,
     "end_time": "2022-11-14T22:29:29.031751",
     "exception": false,
     "start_time": "2022-11-14T22:29:29.018087",
     "status": "completed"
    },
    "tags": []
   },
   "source": [
    "👇 Locate missing values, investigate them, and apply the solutions below accordingly:\n",
    "\n",
    "- Impute with most frequent\n",
    "- Impute with median\n",
    "\n",
    "Make changes effective in the dataset `df`."
   ]
  },
  {
   "cell_type": "code",
   "execution_count": 4,
   "id": "4af6b3f0",
   "metadata": {
    "execution": {
     "iopub.execute_input": "2022-11-14T22:29:29.060575Z",
     "iopub.status.busy": "2022-11-14T22:29:29.059428Z",
     "iopub.status.idle": "2022-11-14T22:29:29.069312Z",
     "shell.execute_reply": "2022-11-14T22:29:29.068069Z"
    },
    "papermill": {
     "duration": 0.026872,
     "end_time": "2022-11-14T22:29:29.071814",
     "exception": false,
     "start_time": "2022-11-14T22:29:29.044942",
     "status": "completed"
    },
    "tags": [
     "challengify"
    ]
   },
   "outputs": [
    {
     "data": {
      "text/plain": [
       "car_ID              0\n",
       "symboling           0\n",
       "CarName             0\n",
       "fueltype            0\n",
       "aspiration          0\n",
       "doornumber          0\n",
       "carbody             0\n",
       "drivewheel          0\n",
       "enginelocation      0\n",
       "wheelbase           0\n",
       "carlength           0\n",
       "carwidth            0\n",
       "carheight           0\n",
       "curbweight          0\n",
       "enginetype          0\n",
       "cylindernumber      0\n",
       "enginesize          0\n",
       "fuelsystem          0\n",
       "boreratio           0\n",
       "stroke              0\n",
       "compressionratio    0\n",
       "horsepower          0\n",
       "peakrpm             0\n",
       "citympg             0\n",
       "highwaympg          0\n",
       "price               0\n",
       "dtype: int64"
      ]
     },
     "execution_count": 4,
     "metadata": {},
     "output_type": "execute_result"
    }
   ],
   "source": [
    "#on observe ici qu'il n'y a pas de valeur nulle \n",
    "df.isna().sum()"
   ]
  },
  {
   "cell_type": "markdown",
   "id": "6c246bfb",
   "metadata": {
    "papermill": {
     "duration": 0.012932,
     "end_time": "2022-11-14T22:29:29.098006",
     "exception": false,
     "start_time": "2022-11-14T22:29:29.085074",
     "status": "completed"
    },
    "tags": []
   },
   "source": [
    "## `carwidth`"
   ]
  },
  {
   "cell_type": "markdown",
   "id": "7cfd2639",
   "metadata": {
    "papermill": {
     "duration": 0.01288,
     "end_time": "2022-11-14T22:29:29.124191",
     "exception": false,
     "start_time": "2022-11-14T22:29:29.111311",
     "status": "completed"
    },
    "tags": []
   },
   "source": [
    "<details>\n",
    "    <summary> 💡 Hint </summary>\n",
    "    <br>\n",
    "    ℹ️ <code>carwidth</code> has multiple representations of missing values. Some are <code>np.nans</code>, some are  <code>*</code>. Once located, they can be imputed by the median value, since there is less than 30% of missing values.\n",
    "</details> "
   ]
  },
  {
   "cell_type": "code",
   "execution_count": 5,
   "id": "6c283abd",
   "metadata": {
    "execution": {
     "iopub.execute_input": "2022-11-14T22:29:29.153446Z",
     "iopub.status.busy": "2022-11-14T22:29:29.153019Z",
     "iopub.status.idle": "2022-11-14T22:29:29.165411Z",
     "shell.execute_reply": "2022-11-14T22:29:29.163834Z"
    },
    "papermill": {
     "duration": 0.029803,
     "end_time": "2022-11-14T22:29:29.167880",
     "exception": false,
     "start_time": "2022-11-14T22:29:29.138077",
     "status": "completed"
    },
    "tags": [
     "challengify"
    ]
   },
   "outputs": [],
   "source": [
    "# YOUR CODE HERE\n",
    "#print(df['carwidth'].unique())\n",
    "#print(df.isnull().values.any())\n",
    "#print(df['carwidth'].isnull().values.any())\n",
    "\n",
    "\n",
    "#comme nous n'avons pas de valeur null on cherche uniquement les '*' garce a cette boucle, il n'y en a pas non plus \n",
    "for i in range(len(df['carwidth'])):\n",
    "    if df['carwidth'][i]=='*':\n",
    "        print(df['carwidth'][i])\n"
   ]
  },
  {
   "cell_type": "markdown",
   "id": "5216c1d8",
   "metadata": {
    "papermill": {
     "duration": 0.013569,
     "end_time": "2022-11-14T22:29:29.194922",
     "exception": false,
     "start_time": "2022-11-14T22:29:29.181353",
     "status": "completed"
    },
    "tags": []
   },
   "source": [
    "## `enginelocation`"
   ]
  },
  {
   "cell_type": "markdown",
   "id": "c8c33e70",
   "metadata": {
    "papermill": {
     "duration": 0.012784,
     "end_time": "2022-11-14T22:29:29.220898",
     "exception": false,
     "start_time": "2022-11-14T22:29:29.208114",
     "status": "completed"
    },
    "tags": []
   },
   "source": [
    "<details>\n",
    "    <summary>💡 Hint </summary>\n",
    "    <br>\n",
    "    ℹ️ Considering that <code>enginelocation</code> is a categorical feature, and that the vast majority of the category is front, impute with the most frequent.\n",
    "</details>"
   ]
  },
  {
   "cell_type": "code",
   "execution_count": 6,
   "id": "3486d351",
   "metadata": {
    "execution": {
     "iopub.execute_input": "2022-11-14T22:29:29.249731Z",
     "iopub.status.busy": "2022-11-14T22:29:29.249300Z",
     "iopub.status.idle": "2022-11-14T22:29:29.262732Z",
     "shell.execute_reply": "2022-11-14T22:29:29.261437Z"
    },
    "papermill": {
     "duration": 0.031163,
     "end_time": "2022-11-14T22:29:29.265670",
     "exception": false,
     "start_time": "2022-11-14T22:29:29.234507",
     "status": "completed"
    },
    "tags": [
     "challengify"
    ]
   },
   "outputs": [
    {
     "name": "stdout",
     "output_type": "stream",
     "text": [
      "front    202\n",
      "rear       3\n",
      "Name: enginelocation, dtype: int64\n"
     ]
    }
   ],
   "source": [
    "# ici on cherche la valeur la plus frequente et la moins frequente \n",
    "print(df['enginelocation'].value_counts())\n",
    "for i in range(len(df['enginelocation'])):\n",
    "    if df['enginelocation'][i]==None or df['enginelocation'][i]=='':\n",
    "        df['enginelocation'][i]='front'"
   ]
  },
  {
   "cell_type": "markdown",
   "id": "9de9e3bb",
   "metadata": {
    "papermill": {
     "duration": 0.012929,
     "end_time": "2022-11-14T22:29:29.292625",
     "exception": false,
     "start_time": "2022-11-14T22:29:29.279696",
     "status": "completed"
    },
    "tags": []
   },
   "source": [
    "# Scaling"
   ]
  },
  {
   "cell_type": "markdown",
   "id": "82fc1505",
   "metadata": {
    "papermill": {
     "duration": 0.013098,
     "end_time": "2022-11-14T22:29:29.319071",
     "exception": false,
     "start_time": "2022-11-14T22:29:29.305973",
     "status": "completed"
    },
    "tags": []
   },
   "source": [
    "👇 Investigate the numerical features for outliers and distribution, and apply the solutions below accordingly:\n",
    "- Robust Scale\n",
    "- Standard Scale\n",
    "\n",
    "Replace the original columns by the transformed values."
   ]
  },
  {
   "cell_type": "markdown",
   "id": "e93ace57",
   "metadata": {
    "papermill": {
     "duration": 0.013743,
     "end_time": "2022-11-14T22:29:29.346099",
     "exception": false,
     "start_time": "2022-11-14T22:29:29.332356",
     "status": "completed"
    },
    "tags": []
   },
   "source": [
    "## `peakrpm` , `carwidth` , & `stroke`"
   ]
  },
  {
   "cell_type": "markdown",
   "id": "3c64e4a7",
   "metadata": {
    "papermill": {
     "duration": 0.013025,
     "end_time": "2022-11-14T22:29:29.372323",
     "exception": false,
     "start_time": "2022-11-14T22:29:29.359298",
     "status": "completed"
    },
    "tags": []
   },
   "source": [
    "<details>\n",
    "    <summary>💡 Hint </summary>\n",
    "    <br>\n",
    "    ℹ️ <code>peakrpm</code>, <code>carwidth</code>, & <code>stroke</code> have normal distributions and outliers. They must be Robust Scaled.\n",
    "</details>"
   ]
  },
  {
   "cell_type": "code",
   "execution_count": 7,
   "id": "0f8344f0",
   "metadata": {
    "execution": {
     "iopub.execute_input": "2022-11-14T22:29:29.400758Z",
     "iopub.status.busy": "2022-11-14T22:29:29.400376Z",
     "iopub.status.idle": "2022-11-14T22:29:30.894680Z",
     "shell.execute_reply": "2022-11-14T22:29:30.893102Z"
    },
    "papermill": {
     "duration": 1.511611,
     "end_time": "2022-11-14T22:29:30.897073",
     "exception": false,
     "start_time": "2022-11-14T22:29:29.385462",
     "status": "completed"
    },
    "tags": [
     "challengify"
    ]
   },
   "outputs": [
    {
     "name": "stdout",
     "output_type": "stream",
     "text": [
      "peakrm describe:  count     205.000000\n",
      "mean     5125.121951\n",
      "std       476.985643\n",
      "min      4150.000000\n",
      "25%      4800.000000\n",
      "50%      5200.000000\n",
      "75%      5500.000000\n",
      "max      6600.000000\n",
      "Name: peakrpm, dtype: float64\n",
      "\n",
      "\n",
      "\n",
      "\n"
     ]
    },
    {
     "data": {
      "image/png": "[encoded data removed]",
      "text/plain": [
       "<Figure size 500x500 with 1 Axes>"
      ]
     },
     "metadata": {},
     "output_type": "display_data"
    }
   ],
   "source": [
    "# ici on plot le nombre de \"peakrm\" et on affiche ses statistiques \n",
    "def output():\n",
    "    print('\\n\\n\\n')\n",
    "import matplotlib.pyplot as plt\n",
    "import seaborn as sns\n",
    "print('peakrm describe: ',df['peakrpm'].describe())\n",
    "sns.displot(df['peakrpm'],kde=True)\n",
    "output()"
   ]
  },
  {
   "cell_type": "code",
   "execution_count": 8,
   "id": "b2a10d6b",
   "metadata": {
    "execution": {
     "iopub.execute_input": "2022-11-14T22:29:30.928016Z",
     "iopub.status.busy": "2022-11-14T22:29:30.927137Z",
     "iopub.status.idle": "2022-11-14T22:29:31.265800Z",
     "shell.execute_reply": "2022-11-14T22:29:31.264584Z"
    },
    "papermill": {
     "duration": 0.356364,
     "end_time": "2022-11-14T22:29:31.268303",
     "exception": false,
     "start_time": "2022-11-14T22:29:30.911939",
     "status": "completed"
    },
    "tags": [
     "delete"
    ]
   },
   "outputs": [
    {
     "name": "stdout",
     "output_type": "stream",
     "text": [
      "carwidth describe:  count    205.000000\n",
      "mean      65.907805\n",
      "std        2.145204\n",
      "min       60.300000\n",
      "25%       64.100000\n",
      "50%       65.500000\n",
      "75%       66.900000\n",
      "max       72.300000\n",
      "Name: carwidth, dtype: float64\n"
     ]
    },
    {
     "data": {
      "text/plain": [
       "<seaborn.axisgrid.FacetGrid at 0x206e7515350>"
      ]
     },
     "execution_count": 8,
     "metadata": {},
     "output_type": "execute_result"
    },
    {
     "data": {
      "image/png": "[encoded data removed]",
      "text/plain": [
       "<Figure size 500x500 with 1 Axes>"
      ]
     },
     "metadata": {},
     "output_type": "display_data"
    }
   ],
   "source": [
    "# idem que pour \"peakrm\"\n",
    "print('carwidth describe: ',df['carwidth'].describe())\n",
    "sns.displot(df['carwidth'],kde=True)"
   ]
  },
  {
   "cell_type": "code",
   "execution_count": 9,
   "id": "9007d636",
   "metadata": {
    "execution": {
     "iopub.execute_input": "2022-11-14T22:29:31.298745Z",
     "iopub.status.busy": "2022-11-14T22:29:31.298327Z",
     "iopub.status.idle": "2022-11-14T22:29:31.653492Z",
     "shell.execute_reply": "2022-11-14T22:29:31.652577Z"
    },
    "papermill": {
     "duration": 0.373108,
     "end_time": "2022-11-14T22:29:31.655833",
     "exception": false,
     "start_time": "2022-11-14T22:29:31.282725",
     "status": "completed"
    },
    "tags": []
   },
   "outputs": [
    {
     "name": "stdout",
     "output_type": "stream",
     "text": [
      "stroke describe:  count    205.000000\n",
      "mean       3.255415\n",
      "std        0.313597\n",
      "min        2.070000\n",
      "25%        3.110000\n",
      "50%        3.290000\n",
      "75%        3.410000\n",
      "max        4.170000\n",
      "Name: stroke, dtype: float64\n"
     ]
    },
    {
     "data": {
      "text/plain": [
       "<seaborn.axisgrid.FacetGrid at 0x2069737ab50>"
      ]
     },
     "execution_count": 9,
     "metadata": {},
     "output_type": "execute_result"
    },
    {
     "data": {
      "image/png": "[encoded data removed]",
      "text/plain": [
       "<Figure size 500x500 with 1 Axes>"
      ]
     },
     "metadata": {},
     "output_type": "display_data"
    }
   ],
   "source": [
    "#idem que pour \"peakrm\"\n",
    "\n",
    "print('stroke describe: ',df['stroke'].describe())\n",
    "sns.displot(df['stroke'],kde=True)"
   ]
  },
  {
   "cell_type": "code",
   "execution_count": 10,
   "id": "105c8714",
   "metadata": {},
   "outputs": [],
   "source": [
    "#on applique RobustScaler sur les features qui nous interessent \n",
    "\n",
    "from sklearn.preprocessing import RobustScaler\n",
    "\n",
    "\n",
    "scaler = RobustScaler()\n",
    "scaler.fit(df['price'].values.reshape(-1,1))\n",
    "df['price']=scaler.transform(df['price'].values.reshape(-1,1))"
   ]
  },
  {
   "cell_type": "code",
   "execution_count": 11,
   "id": "e4f01979",
   "metadata": {
    "execution": {
     "iopub.execute_input": "2022-11-14T22:29:31.688645Z",
     "iopub.status.busy": "2022-11-14T22:29:31.687679Z",
     "iopub.status.idle": "2022-11-14T22:29:31.834575Z",
     "shell.execute_reply": "2022-11-14T22:29:31.833478Z"
    },
    "papermill": {
     "duration": 0.166101,
     "end_time": "2022-11-14T22:29:31.837224",
     "exception": false,
     "start_time": "2022-11-14T22:29:31.671123",
     "status": "completed"
    },
    "tags": []
   },
   "outputs": [],
   "source": [
    "\n",
    "scaler.fit(df['peakrpm'].values.reshape(-1,1))\n",
    "df['peakrpm']=scaler.transform(df['peakrpm'].values.reshape(-1,1))"
   ]
  },
  {
   "cell_type": "code",
   "execution_count": 12,
   "id": "b18e326b",
   "metadata": {
    "execution": {
     "iopub.execute_input": "2022-11-14T22:29:31.869058Z",
     "iopub.status.busy": "2022-11-14T22:29:31.868653Z",
     "iopub.status.idle": "2022-11-14T22:29:31.877551Z",
     "shell.execute_reply": "2022-11-14T22:29:31.876175Z"
    },
    "papermill": {
     "duration": 0.027595,
     "end_time": "2022-11-14T22:29:31.879989",
     "exception": false,
     "start_time": "2022-11-14T22:29:31.852394",
     "status": "completed"
    },
    "tags": []
   },
   "outputs": [],
   "source": [
    "scaler = RobustScaler()\n",
    "scaler.fit(df['stroke'].values.reshape(-1,1))\n",
    "df['stroke']=scaler.transform(df['stroke'].values.reshape(-1,1))"
   ]
  },
  {
   "cell_type": "code",
   "execution_count": 13,
   "id": "18094f90",
   "metadata": {
    "execution": {
     "iopub.execute_input": "2022-11-14T22:29:31.912425Z",
     "iopub.status.busy": "2022-11-14T22:29:31.911607Z",
     "iopub.status.idle": "2022-11-14T22:29:31.919482Z",
     "shell.execute_reply": "2022-11-14T22:29:31.918587Z"
    },
    "papermill": {
     "duration": 0.026555,
     "end_time": "2022-11-14T22:29:31.921689",
     "exception": false,
     "start_time": "2022-11-14T22:29:31.895134",
     "status": "completed"
    },
    "tags": []
   },
   "outputs": [],
   "source": [
    "scaler = RobustScaler()\n",
    "scaler.fit(df['carwidth'].values.reshape(-1,1))\n",
    "df['carwidth']=scaler.transform(df['carwidth'].values.reshape(-1,1))\n"
   ]
  },
  {
   "cell_type": "code",
   "execution_count": 14,
   "id": "18eb3338",
   "metadata": {
    "execution": {
     "iopub.execute_input": "2022-11-14T22:29:31.953702Z",
     "iopub.status.busy": "2022-11-14T22:29:31.952569Z",
     "iopub.status.idle": "2022-11-14T22:29:31.969068Z",
     "shell.execute_reply": "2022-11-14T22:29:31.967533Z"
    },
    "papermill": {
     "duration": 0.034894,
     "end_time": "2022-11-14T22:29:31.971402",
     "exception": false,
     "start_time": "2022-11-14T22:29:31.936508",
     "status": "completed"
    },
    "tags": []
   },
   "outputs": [
    {
     "name": "stdout",
     "output_type": "stream",
     "text": [
      "stroke describe:  count    205.000000\n",
      "mean      -0.115285\n",
      "std        1.045323\n",
      "min       -4.066667\n",
      "25%       -0.600000\n",
      "50%        0.000000\n",
      "75%        0.400000\n",
      "max        2.933333\n",
      "Name: stroke, dtype: float64\n",
      "\n",
      "\n",
      "\n",
      "\n",
      "carwidth describe:  count    205.000000\n",
      "mean       0.145645\n",
      "std        0.766144\n",
      "min       -1.857143\n",
      "25%       -0.500000\n",
      "50%        0.000000\n",
      "75%        0.500000\n",
      "max        2.428571\n",
      "Name: carwidth, dtype: float64\n",
      "\n",
      "\n",
      "\n",
      "\n",
      "peakrm describe:  count    205.000000\n",
      "mean      -0.106969\n",
      "std        0.681408\n",
      "min       -1.500000\n",
      "25%       -0.571429\n",
      "50%        0.000000\n",
      "75%        0.428571\n",
      "max        2.000000\n",
      "Name: peakrpm, dtype: float64\n"
     ]
    },
    {
     "data": {
      "image/png": "[encoded data removed]",
      "text/plain": [
       "<Figure size 500x500 with 1 Axes>"
      ]
     },
     "metadata": {},
     "output_type": "display_data"
    }
   ],
   "source": [
    "print('stroke describe: ',df['stroke'].describe())\n",
    "output()\n",
    "sns.displot(df['stroke'],kde=True)\n",
    "print('carwidth describe: ',df['carwidth'].describe())\n",
    "output()\n",
    "print('peakrm describe: ',df['peakrpm'].describe())"
   ]
  },
  {
   "cell_type": "markdown",
   "id": "a7cb34ca",
   "metadata": {
    "papermill": {
     "duration": 0.014732,
     "end_time": "2022-11-14T22:29:32.003646",
     "exception": false,
     "start_time": "2022-11-14T22:29:31.988914",
     "status": "completed"
    },
    "tags": []
   },
   "source": [
    "## `curbweight`"
   ]
  },
  {
   "cell_type": "markdown",
   "id": "f4a053a8",
   "metadata": {
    "papermill": {
     "duration": 0.014638,
     "end_time": "2022-11-14T22:29:32.033303",
     "exception": false,
     "start_time": "2022-11-14T22:29:32.018665",
     "status": "completed"
    },
    "tags": []
   },
   "source": [
    "<details>\n",
    "    <summary>💡 Hint </summary>\n",
    "    <br>\n",
    "    ℹ️ <code>curbweight</code> has a normal distribution and no outliers. It can be Standard Scaled.\n",
    "</details>"
   ]
  },
  {
   "cell_type": "code",
   "execution_count": 15,
   "id": "81b8a5a3",
   "metadata": {
    "execution": {
     "iopub.execute_input": "2022-11-14T22:29:32.065790Z",
     "iopub.status.busy": "2022-11-14T22:29:32.065047Z",
     "iopub.status.idle": "2022-11-14T22:29:32.081929Z",
     "shell.execute_reply": "2022-11-14T22:29:32.079955Z"
    },
    "papermill": {
     "duration": 0.036356,
     "end_time": "2022-11-14T22:29:32.084721",
     "exception": false,
     "start_time": "2022-11-14T22:29:32.048365",
     "status": "completed"
    },
    "tags": [
     "challengify"
    ]
   },
   "outputs": [
    {
     "name": "stdout",
     "output_type": "stream",
     "text": [
      "curbweight describe:  count     205.000000\n",
      "mean     2555.565854\n",
      "std       520.680204\n",
      "min      1488.000000\n",
      "25%      2145.000000\n",
      "50%      2414.000000\n",
      "75%      2935.000000\n",
      "max      4066.000000\n",
      "Name: curbweight, dtype: float64\n",
      "\n",
      "\n",
      "\n",
      "\n",
      "curbweight describe after:  count    2.050000e+02\n",
      "mean     1.126470e-16\n",
      "std      1.002448e+00\n",
      "min     -2.055348e+00\n",
      "25%     -7.904486e-01\n",
      "50%     -2.725519e-01\n",
      "75%      7.305117e-01\n",
      "max      2.907988e+00\n",
      "Name: curbweight, dtype: float64\n"
     ]
    }
   ],
   "source": [
    "# Ici on applique StandardScaler \n",
    "from sklearn.preprocessing import StandardScaler\n",
    "print('curbweight describe: ',df['curbweight'].describe())\n",
    "scaler = StandardScaler()\n",
    "scaler.fit(df['curbweight'].values.reshape(-1,1))\n",
    "df['curbweight']=scaler.transform(df['curbweight'].values.reshape(-1,1))\n",
    "output()\n",
    "print('curbweight describe after: ',df['curbweight'].describe())"
   ]
  },
  {
   "cell_type": "code",
   "execution_count": 16,
   "id": "0bb43afd",
   "metadata": {
    "execution": {
     "iopub.execute_input": "2022-11-14T22:29:32.116981Z",
     "iopub.status.busy": "2022-11-14T22:29:32.116320Z",
     "iopub.status.idle": "2022-11-14T22:29:32.120974Z",
     "shell.execute_reply": "2022-11-14T22:29:32.120208Z"
    },
    "papermill": {
     "duration": 0.023265,
     "end_time": "2022-11-14T22:29:32.123112",
     "exception": false,
     "start_time": "2022-11-14T22:29:32.099847",
     "status": "completed"
    },
    "tags": [
     "challengify"
    ]
   },
   "outputs": [],
   "source": [
    "# YOUR CODE HERE"
   ]
  },
  {
   "cell_type": "markdown",
   "id": "2483aa28",
   "metadata": {
    "papermill": {
     "duration": 0.014565,
     "end_time": "2022-11-14T22:29:32.152804",
     "exception": false,
     "start_time": "2022-11-14T22:29:32.138239",
     "status": "completed"
    },
    "tags": []
   },
   "source": [
    "# Encoding"
   ]
  },
  {
   "cell_type": "markdown",
   "id": "bb339d3a",
   "metadata": {
    "papermill": {
     "duration": 0.014559,
     "end_time": "2022-11-14T22:29:32.182444",
     "exception": false,
     "start_time": "2022-11-14T22:29:32.167885",
     "status": "completed"
    },
    "tags": []
   },
   "source": [
    "👇 Investigate the features that require encoding, and apply the following techniques accordingly:\n",
    "\n",
    "- One hot encoding\n",
    "- Manual ordinal encoding\n",
    "\n",
    "In the dataframe, replace the original features by their encoded version(s)."
   ]
  },
  {
   "cell_type": "markdown",
   "id": "12eb678e",
   "metadata": {
    "papermill": {
     "duration": 0.014525,
     "end_time": "2022-11-14T22:29:32.212000",
     "exception": false,
     "start_time": "2022-11-14T22:29:32.197475",
     "status": "completed"
    },
    "tags": []
   },
   "source": [
    "## `aspiration` & `enginelocation`"
   ]
  },
  {
   "cell_type": "code",
   "execution_count": 17,
   "id": "75435ece",
   "metadata": {
    "execution": {
     "iopub.execute_input": "2022-11-14T22:29:32.244023Z",
     "iopub.status.busy": "2022-11-14T22:29:32.243296Z",
     "iopub.status.idle": "2022-11-14T22:29:32.250429Z",
     "shell.execute_reply": "2022-11-14T22:29:32.248954Z"
    },
    "papermill": {
     "duration": 0.02604,
     "end_time": "2022-11-14T22:29:32.253067",
     "exception": false,
     "start_time": "2022-11-14T22:29:32.227027",
     "status": "completed"
    },
    "tags": [
     "challengify"
    ]
   },
   "outputs": [
    {
     "name": "stdout",
     "output_type": "stream",
     "text": [
      "['std' 'turbo']\n",
      "['front' 'rear']\n"
     ]
    }
   ],
   "source": [
    "# YOUR CODE HERE\n",
    "\n",
    "print(df['aspiration'].unique())\n",
    "print(df['enginelocation'].unique())\n"
   ]
  },
  {
   "cell_type": "code",
   "execution_count": 18,
   "id": "ed8a33d6",
   "metadata": {
    "execution": {
     "iopub.execute_input": "2022-11-14T22:29:32.285344Z",
     "iopub.status.busy": "2022-11-14T22:29:32.284922Z",
     "iopub.status.idle": "2022-11-14T22:29:32.322583Z",
     "shell.execute_reply": "2022-11-14T22:29:32.321635Z"
    },
    "papermill": {
     "duration": 0.056513,
     "end_time": "2022-11-14T22:29:32.324909",
     "exception": false,
     "start_time": "2022-11-14T22:29:32.268396",
     "status": "completed"
    },
    "tags": [
     "delete"
    ]
   },
   "outputs": [
    {
     "data": {
      "text/html": [
       "<div>\n",
       "<style scoped>\n",
       "    .dataframe tbody tr th:only-of-type {\n",
       "        vertical-align: middle;\n",
       "    }\n",
       "\n",
       "    .dataframe tbody tr th {\n",
       "        vertical-align: top;\n",
       "    }\n",
       "\n",
       "    .dataframe thead th {\n",
       "        text-align: right;\n",
       "    }\n",
       "</style>\n",
       "<table border=\"1\" class=\"dataframe\">\n",
       "  <thead>\n",
       "    <tr style=\"text-align: right;\">\n",
       "      <th></th>\n",
       "      <th>car_ID</th>\n",
       "      <th>symboling</th>\n",
       "      <th>CarName</th>\n",
       "      <th>fueltype</th>\n",
       "      <th>doornumber</th>\n",
       "      <th>carbody</th>\n",
       "      <th>drivewheel</th>\n",
       "      <th>wheelbase</th>\n",
       "      <th>carlength</th>\n",
       "      <th>carwidth</th>\n",
       "      <th>...</th>\n",
       "      <th>boreratio</th>\n",
       "      <th>stroke</th>\n",
       "      <th>compressionratio</th>\n",
       "      <th>horsepower</th>\n",
       "      <th>peakrpm</th>\n",
       "      <th>citympg</th>\n",
       "      <th>highwaympg</th>\n",
       "      <th>price</th>\n",
       "      <th>aspiration_turbo</th>\n",
       "      <th>enginelocation_rear</th>\n",
       "    </tr>\n",
       "  </thead>\n",
       "  <tbody>\n",
       "    <tr>\n",
       "      <th>0</th>\n",
       "      <td>1</td>\n",
       "      <td>3</td>\n",
       "      <td>alfa-romero giulia</td>\n",
       "      <td>gas</td>\n",
       "      <td>two</td>\n",
       "      <td>convertible</td>\n",
       "      <td>rwd</td>\n",
       "      <td>88.6</td>\n",
       "      <td>168.8</td>\n",
       "      <td>-0.500000</td>\n",
       "      <td>...</td>\n",
       "      <td>3.47</td>\n",
       "      <td>-2.033333</td>\n",
       "      <td>9.0</td>\n",
       "      <td>111</td>\n",
       "      <td>-0.285714</td>\n",
       "      <td>21</td>\n",
       "      <td>27</td>\n",
       "      <td>0.367183</td>\n",
       "      <td>0</td>\n",
       "      <td>0</td>\n",
       "    </tr>\n",
       "    <tr>\n",
       "      <th>1</th>\n",
       "      <td>2</td>\n",
       "      <td>3</td>\n",
       "      <td>alfa-romero stelvio</td>\n",
       "      <td>gas</td>\n",
       "      <td>two</td>\n",
       "      <td>convertible</td>\n",
       "      <td>rwd</td>\n",
       "      <td>88.6</td>\n",
       "      <td>168.8</td>\n",
       "      <td>-0.500000</td>\n",
       "      <td>...</td>\n",
       "      <td>3.47</td>\n",
       "      <td>-2.033333</td>\n",
       "      <td>9.0</td>\n",
       "      <td>111</td>\n",
       "      <td>-0.285714</td>\n",
       "      <td>21</td>\n",
       "      <td>27</td>\n",
       "      <td>0.711991</td>\n",
       "      <td>0</td>\n",
       "      <td>0</td>\n",
       "    </tr>\n",
       "    <tr>\n",
       "      <th>2</th>\n",
       "      <td>3</td>\n",
       "      <td>1</td>\n",
       "      <td>alfa-romero Quadrifoglio</td>\n",
       "      <td>gas</td>\n",
       "      <td>two</td>\n",
       "      <td>hatchback</td>\n",
       "      <td>rwd</td>\n",
       "      <td>94.5</td>\n",
       "      <td>171.2</td>\n",
       "      <td>0.000000</td>\n",
       "      <td>...</td>\n",
       "      <td>2.68</td>\n",
       "      <td>0.600000</td>\n",
       "      <td>9.0</td>\n",
       "      <td>154</td>\n",
       "      <td>-0.285714</td>\n",
       "      <td>19</td>\n",
       "      <td>26</td>\n",
       "      <td>0.711991</td>\n",
       "      <td>0</td>\n",
       "      <td>0</td>\n",
       "    </tr>\n",
       "    <tr>\n",
       "      <th>3</th>\n",
       "      <td>4</td>\n",
       "      <td>2</td>\n",
       "      <td>audi 100 ls</td>\n",
       "      <td>gas</td>\n",
       "      <td>four</td>\n",
       "      <td>sedan</td>\n",
       "      <td>fwd</td>\n",
       "      <td>99.8</td>\n",
       "      <td>176.6</td>\n",
       "      <td>0.250000</td>\n",
       "      <td>...</td>\n",
       "      <td>3.19</td>\n",
       "      <td>0.366667</td>\n",
       "      <td>10.0</td>\n",
       "      <td>102</td>\n",
       "      <td>0.428571</td>\n",
       "      <td>24</td>\n",
       "      <td>30</td>\n",
       "      <td>0.419392</td>\n",
       "      <td>0</td>\n",
       "      <td>0</td>\n",
       "    </tr>\n",
       "    <tr>\n",
       "      <th>4</th>\n",
       "      <td>5</td>\n",
       "      <td>2</td>\n",
       "      <td>audi 100ls</td>\n",
       "      <td>gas</td>\n",
       "      <td>four</td>\n",
       "      <td>sedan</td>\n",
       "      <td>4wd</td>\n",
       "      <td>99.4</td>\n",
       "      <td>176.6</td>\n",
       "      <td>0.321429</td>\n",
       "      <td>...</td>\n",
       "      <td>3.19</td>\n",
       "      <td>0.366667</td>\n",
       "      <td>8.0</td>\n",
       "      <td>115</td>\n",
       "      <td>0.428571</td>\n",
       "      <td>18</td>\n",
       "      <td>22</td>\n",
       "      <td>0.820998</td>\n",
       "      <td>0</td>\n",
       "      <td>0</td>\n",
       "    </tr>\n",
       "  </tbody>\n",
       "</table>\n",
       "<p>5 rows × 26 columns</p>\n",
       "</div>"
      ],
      "text/plain": [
       "   car_ID  symboling                   CarName fueltype doornumber  \\\n",
       "0       1          3        alfa-romero giulia      gas        two   \n",
       "1       2          3       alfa-romero stelvio      gas        two   \n",
       "2       3          1  alfa-romero Quadrifoglio      gas        two   \n",
       "3       4          2               audi 100 ls      gas       four   \n",
       "4       5          2                audi 100ls      gas       four   \n",
       "\n",
       "       carbody drivewheel  wheelbase  carlength  carwidth  ...  boreratio  \\\n",
       "0  convertible        rwd       88.6      168.8 -0.500000  ...       3.47   \n",
       "1  convertible        rwd       88.6      168.8 -0.500000  ...       3.47   \n",
       "2    hatchback        rwd       94.5      171.2  0.000000  ...       2.68   \n",
       "3        sedan        fwd       99.8      176.6  0.250000  ...       3.19   \n",
       "4        sedan        4wd       99.4      176.6  0.321429  ...       3.19   \n",
       "\n",
       "     stroke compressionratio horsepower   peakrpm citympg  highwaympg  \\\n",
       "0 -2.033333              9.0        111 -0.285714      21          27   \n",
       "1 -2.033333              9.0        111 -0.285714      21          27   \n",
       "2  0.600000              9.0        154 -0.285714      19          26   \n",
       "3  0.366667             10.0        102  0.428571      24          30   \n",
       "4  0.366667              8.0        115  0.428571      18          22   \n",
       "\n",
       "      price  aspiration_turbo  enginelocation_rear  \n",
       "0  0.367183                 0                    0  \n",
       "1  0.711991                 0                    0  \n",
       "2  0.711991                 0                    0  \n",
       "3  0.419392                 0                    0  \n",
       "4  0.820998                 0                    0  \n",
       "\n",
       "[5 rows x 26 columns]"
      ]
     },
     "execution_count": 18,
     "metadata": {},
     "output_type": "execute_result"
    }
   ],
   "source": [
    "# YOUR CODE HERE\n",
    "\n",
    "\n",
    "df = pd.get_dummies(df,prefix=['aspiration'], columns = ['aspiration'], drop_first=True)\n",
    "df = pd.get_dummies(df,prefix=['enginelocation'], columns = ['enginelocation'], drop_first=True)\n",
    "df.head()\n",
    "# encoder=OneHotEncoder(handle_unknown='ignore')\n",
    "# encoder.fit(data['GarageFinish'].values.reshape(-1,1))\n",
    "# transformed = encoder.transform(data['GarageFinish'].values.reshape(-1,1))\n",
    "# ohe_df = pd.DataFrame(transformed)\n",
    "\n",
    "# data = pd.concat([data, ohe_df], axis=1).drop(['GarageFinish'])\n",
    "# ohe_df = pd.DataFrame(donnees)\n",
    "# data = pd.concat([data, ohe_df], axis=1).drop(['GarageFinish'], axis=1)"
   ]
  },
  {
   "cell_type": "code",
   "execution_count": 19,
   "id": "4a64d2d4",
   "metadata": {
    "execution": {
     "iopub.execute_input": "2022-11-14T22:29:32.358741Z",
     "iopub.status.busy": "2022-11-14T22:29:32.357675Z",
     "iopub.status.idle": "2022-11-14T22:29:32.365902Z",
     "shell.execute_reply": "2022-11-14T22:29:32.364501Z"
    },
    "papermill": {
     "duration": 0.027896,
     "end_time": "2022-11-14T22:29:32.368399",
     "exception": false,
     "start_time": "2022-11-14T22:29:32.340503",
     "status": "completed"
    },
    "tags": []
   },
   "outputs": [
    {
     "data": {
      "text/plain": [
       "Index(['car_ID', 'symboling', 'CarName', 'fueltype', 'doornumber', 'carbody',\n",
       "       'drivewheel', 'wheelbase', 'carlength', 'carwidth', 'carheight',\n",
       "       'curbweight', 'enginetype', 'cylindernumber', 'enginesize',\n",
       "       'fuelsystem', 'boreratio', 'stroke', 'compressionratio', 'horsepower',\n",
       "       'peakrpm', 'citympg', 'highwaympg', 'price', 'aspiration_turbo',\n",
       "       'enginelocation_rear'],\n",
       "      dtype='object')"
      ]
     },
     "execution_count": 19,
     "metadata": {},
     "output_type": "execute_result"
    }
   ],
   "source": [
    "df.columns"
   ]
  },
  {
   "cell_type": "markdown",
   "id": "24608484",
   "metadata": {
    "papermill": {
     "duration": 0.015834,
     "end_time": "2022-11-14T22:29:32.400011",
     "exception": false,
     "start_time": "2022-11-14T22:29:32.384177",
     "status": "completed"
    },
    "tags": []
   },
   "source": [
    "## `enginetype`"
   ]
  },
  {
   "cell_type": "code",
   "execution_count": 20,
   "id": "7dd10324",
   "metadata": {
    "execution": {
     "iopub.execute_input": "2022-11-14T22:29:32.433858Z",
     "iopub.status.busy": "2022-11-14T22:29:32.432550Z",
     "iopub.status.idle": "2022-11-14T22:29:32.442490Z",
     "shell.execute_reply": "2022-11-14T22:29:32.441551Z"
    },
    "papermill": {
     "duration": 0.029065,
     "end_time": "2022-11-14T22:29:32.444744",
     "exception": false,
     "start_time": "2022-11-14T22:29:32.415679",
     "status": "completed"
    },
    "tags": [
     "challengify"
    ]
   },
   "outputs": [
    {
     "data": {
      "text/plain": [
       "array(['dohc', 'ohcv', 'ohc', 'l', 'rotor', 'ohcf', 'dohcv'], dtype=object)"
      ]
     },
     "execution_count": 20,
     "metadata": {},
     "output_type": "execute_result"
    }
   ],
   "source": [
    "# YOUR CODE HERE\n",
    "df['enginetype'].describe()\n",
    "df['enginetype'].unique()"
   ]
  },
  {
   "cell_type": "code",
   "execution_count": 24,
   "id": "75052006",
   "metadata": {
    "execution": {
     "iopub.execute_input": "2022-11-14T22:29:32.478401Z",
     "iopub.status.busy": "2022-11-14T22:29:32.477586Z",
     "iopub.status.idle": "2022-11-14T22:29:32.692758Z",
     "shell.execute_reply": "2022-11-14T22:29:32.691684Z"
    },
    "papermill": {
     "duration": 0.235155,
     "end_time": "2022-11-14T22:29:32.695617",
     "exception": false,
     "start_time": "2022-11-14T22:29:32.460462",
     "status": "completed"
    },
    "tags": []
   },
   "outputs": [],
   "source": [
    "# df = pd.get_dummies(df,prefix=['enginetype'], columns = ['enginetype'], drop_first=True)\n",
    "\n",
    "import category_encoders\n",
    "\n",
    "mapping = [\n",
    "    {\n",
    "        'col': 'enginetype',\n",
    "        'mapping':{\n",
    "            'dohc': 1,\n",
    "            'ohcv': 2,\n",
    "            'ohc': 3,\n",
    "            'l':4,\n",
    "            'rotor':5,\n",
    "            'ohcf':6,\n",
    "            'dohcv':7\n",
    "        }\n",
    "    }\n",
    "]\n",
    "\n",
    "\n",
    "encoder = category_encoders.OrdinalEncoder(\n",
    "    cols = ['enginetype'],\n",
    "    return_df = True,\n",
    "    mapping = mapping\n",
    ")\n",
    "e=encoder.fit_transform(df['enginetype'])\n",
    "df['enginetype']=e"
   ]
  },
  {
   "cell_type": "code",
   "execution_count": 25,
   "id": "96008da6",
   "metadata": {
    "execution": {
     "iopub.execute_input": "2022-11-14T22:29:32.728726Z",
     "iopub.status.busy": "2022-11-14T22:29:32.728322Z",
     "iopub.status.idle": "2022-11-14T22:29:32.735284Z",
     "shell.execute_reply": "2022-11-14T22:29:32.734365Z"
    },
    "papermill": {
     "duration": 0.026078,
     "end_time": "2022-11-14T22:29:32.737439",
     "exception": false,
     "start_time": "2022-11-14T22:29:32.711361",
     "status": "completed"
    },
    "tags": []
   },
   "outputs": [
    {
     "data": {
      "text/plain": [
       "array([1, 2, 3, 4, 5, 6, 7])"
      ]
     },
     "execution_count": 25,
     "metadata": {},
     "output_type": "execute_result"
    }
   ],
   "source": [
    "df['enginetype'].unique()"
   ]
  },
  {
   "cell_type": "markdown",
   "id": "2cb73385",
   "metadata": {
    "papermill": {
     "duration": 0.015505,
     "end_time": "2022-11-14T22:29:32.768932",
     "exception": false,
     "start_time": "2022-11-14T22:29:32.753427",
     "status": "completed"
    },
    "tags": []
   },
   "source": [
    "## `cylindernumber`"
   ]
  },
  {
   "cell_type": "code",
   "execution_count": 26,
   "id": "8b7f45cd",
   "metadata": {
    "execution": {
     "iopub.execute_input": "2022-11-14T22:29:32.803325Z",
     "iopub.status.busy": "2022-11-14T22:29:32.802125Z",
     "iopub.status.idle": "2022-11-14T22:29:32.811719Z",
     "shell.execute_reply": "2022-11-14T22:29:32.810531Z"
    },
    "papermill": {
     "duration": 0.029446,
     "end_time": "2022-11-14T22:29:32.814315",
     "exception": false,
     "start_time": "2022-11-14T22:29:32.784869",
     "status": "completed"
    },
    "tags": [
     "challengify"
    ]
   },
   "outputs": [
    {
     "data": {
      "text/plain": [
       "array(['four', 'six', 'five', 'three', 'twelve', 'two', 'eight'],\n",
       "      dtype=object)"
      ]
     },
     "execution_count": 26,
     "metadata": {},
     "output_type": "execute_result"
    }
   ],
   "source": [
    "# YOUR CODE HERE\n",
    "df['cylindernumber'].describe()\n",
    "df['cylindernumber'].unique()"
   ]
  },
  {
   "cell_type": "code",
   "execution_count": 27,
   "id": "294ae978",
   "metadata": {
    "execution": {
     "iopub.execute_input": "2022-11-14T22:29:32.848114Z",
     "iopub.status.busy": "2022-11-14T22:29:32.847702Z",
     "iopub.status.idle": "2022-11-14T22:29:32.862288Z",
     "shell.execute_reply": "2022-11-14T22:29:32.861086Z"
    },
    "papermill": {
     "duration": 0.034223,
     "end_time": "2022-11-14T22:29:32.864515",
     "exception": false,
     "start_time": "2022-11-14T22:29:32.830292",
     "status": "completed"
    },
    "tags": []
   },
   "outputs": [],
   "source": [
    "\n",
    "mapping = [\n",
    "    {\n",
    "        'col': 'cylindernumber',\n",
    "        'mapping':{\n",
    "            'four': 4,\n",
    "            'five': 5,\n",
    "            'six': 6,\n",
    "            'three':3,\n",
    "            'twelve':12,\n",
    "            'two':2,\n",
    "            'eight':8\n",
    "        }\n",
    "    }\n",
    "]\n",
    "\n",
    "\n",
    "encoder = category_encoders.OrdinalEncoder(\n",
    "    cols = ['cylindernumber'],\n",
    "    return_df = True,\n",
    "    mapping = mapping\n",
    ")\n",
    "e=encoder.fit_transform(df['cylindernumber'])\n",
    "df['cylindernumber']=e\n"
   ]
  },
  {
   "cell_type": "code",
   "execution_count": 28,
   "id": "80b5073b",
   "metadata": {
    "execution": {
     "iopub.execute_input": "2022-11-14T22:29:32.899112Z",
     "iopub.status.busy": "2022-11-14T22:29:32.898502Z",
     "iopub.status.idle": "2022-11-14T22:29:32.904474Z",
     "shell.execute_reply": "2022-11-14T22:29:32.903706Z"
    },
    "papermill": {
     "duration": 0.025701,
     "end_time": "2022-11-14T22:29:32.906579",
     "exception": false,
     "start_time": "2022-11-14T22:29:32.880878",
     "status": "completed"
    },
    "tags": []
   },
   "outputs": [
    {
     "data": {
      "text/plain": [
       "array([ 4,  6,  5,  3, 12,  2,  8])"
      ]
     },
     "execution_count": 28,
     "metadata": {},
     "output_type": "execute_result"
    }
   ],
   "source": [
    "df['cylindernumber'].unique()"
   ]
  },
  {
   "cell_type": "markdown",
   "id": "a6aaf74f",
   "metadata": {
    "papermill": {
     "duration": 0.015651,
     "end_time": "2022-11-14T22:29:32.938266",
     "exception": false,
     "start_time": "2022-11-14T22:29:32.922615",
     "status": "completed"
    },
    "tags": []
   },
   "source": [
    "## `price`"
   ]
  },
  {
   "cell_type": "markdown",
   "id": "b5cb565d",
   "metadata": {
    "papermill": {
     "duration": 0.015718,
     "end_time": "2022-11-14T22:29:32.970059",
     "exception": false,
     "start_time": "2022-11-14T22:29:32.954341",
     "status": "completed"
    },
    "tags": []
   },
   "source": [
    "👇 Encode the target `price`."
   ]
  },
  {
   "cell_type": "code",
   "execution_count": 29,
   "id": "f87cea31",
   "metadata": {
    "execution": {
     "iopub.execute_input": "2022-11-14T22:29:33.004145Z",
     "iopub.status.busy": "2022-11-14T22:29:33.003497Z",
     "iopub.status.idle": "2022-11-14T22:29:33.073725Z",
     "shell.execute_reply": "2022-11-14T22:29:33.072503Z"
    },
    "papermill": {
     "duration": 0.090906,
     "end_time": "2022-11-14T22:29:33.076843",
     "exception": false,
     "start_time": "2022-11-14T22:29:32.985937",
     "status": "completed"
    },
    "tags": [
     "challengify"
    ]
   },
   "outputs": [
    {
     "name": "stdout",
     "output_type": "stream",
     "text": [
      "[1. 2.]\n"
     ]
    },
    {
     "name": "stderr",
     "output_type": "stream",
     "text": [
      "C:\\Users\\Sabri\\AppData\\Local\\Temp\\ipykernel_26244\\3755777532.py:7: SettingWithCopyWarning: \n",
      "A value is trying to be set on a copy of a slice from a DataFrame\n",
      "\n",
      "See the caveats in the documentation: https://pandas.pydata.org/pandas-docs/stable/user_guide/indexing.html#returning-a-view-versus-a-copy\n",
      "  df['price'][i]=1\n",
      "C:\\Users\\Sabri\\AppData\\Local\\Temp\\ipykernel_26244\\3755777532.py:9: SettingWithCopyWarning: \n",
      "A value is trying to be set on a copy of a slice from a DataFrame\n",
      "\n",
      "See the caveats in the documentation: https://pandas.pydata.org/pandas-docs/stable/user_guide/indexing.html#returning-a-view-versus-a-copy\n",
      "  df['price'][i]=2\n"
     ]
    }
   ],
   "source": [
    "# YOUR CODE HERE\n",
    "df['price'].unique()\n",
    "#Encoding price to Yes or No answer :If price > mean of all prices then No (1), otherwise Yes (2)\n",
    "m=np.mean(df['price'])\n",
    "for i in range(len(df['price'])):\n",
    "    if df['price'][i]>=m:\n",
    "        df['price'][i]=1\n",
    "    else:\n",
    "        df['price'][i]=2\n",
    "        \n",
    "print(df['price'].unique())"
   ]
  },
  {
   "cell_type": "markdown",
   "id": "a0ca7da1",
   "metadata": {
    "papermill": {
     "duration": 0.016337,
     "end_time": "2022-11-14T22:29:33.109525",
     "exception": false,
     "start_time": "2022-11-14T22:29:33.093188",
     "status": "completed"
    },
    "tags": []
   },
   "source": [
    "# Collinearity"
   ]
  },
  {
   "cell_type": "markdown",
   "id": "5acce6cd",
   "metadata": {
    "papermill": {
     "duration": 0.015832,
     "end_time": "2022-11-14T22:29:33.141900",
     "exception": false,
     "start_time": "2022-11-14T22:29:33.126068",
     "status": "completed"
    },
    "tags": []
   },
   "source": [
    "👇 Perform a collinearity investigation on the dataset and remove unecessary features. Make changes effective in the dataframe `df`."
   ]
  },
  {
   "cell_type": "code",
   "execution_count": 30,
   "id": "5f15fbf5",
   "metadata": {
    "execution": {
     "iopub.execute_input": "2022-11-14T22:29:33.177344Z",
     "iopub.status.busy": "2022-11-14T22:29:33.176530Z",
     "iopub.status.idle": "2022-11-14T22:29:33.189325Z",
     "shell.execute_reply": "2022-11-14T22:29:33.188428Z"
    },
    "papermill": {
     "duration": 0.032967,
     "end_time": "2022-11-14T22:29:33.191395",
     "exception": false,
     "start_time": "2022-11-14T22:29:33.158428",
     "status": "completed"
    },
    "tags": []
   },
   "outputs": [
    {
     "name": "stdout",
     "output_type": "stream",
     "text": [
      "['gas' 'diesel']\n",
      "['convertible' 'hatchback' 'sedan' 'wagon' 'hardtop']\n",
      "['rwd' 'fwd' '4wd']\n",
      "['mpfi' '2bbl' 'mfi' '1bbl' 'spfi' '4bbl' 'idi' 'spdi']\n"
     ]
    },
    {
     "data": {
      "text/plain": [
       "Index(['car_ID', 'symboling', 'CarName', 'doornumber', 'wheelbase',\n",
       "       'carlength', 'carwidth', 'carheight', 'curbweight', 'enginetype',\n",
       "       'cylindernumber', 'enginesize', 'boreratio', 'stroke',\n",
       "       'compressionratio', 'horsepower', 'peakrpm', 'citympg', 'highwaympg',\n",
       "       'price', 'aspiration_turbo', 'enginelocation_rear'],\n",
       "      dtype='object')"
      ]
     },
     "execution_count": 30,
     "metadata": {},
     "output_type": "execute_result"
    }
   ],
   "source": [
    "print(df['fueltype'].unique())\n",
    "print(df['carbody'].unique())\n",
    "print(df['drivewheel'].unique())\n",
    "print(df['fuelsystem'].unique())\n",
    "df=df.drop(['fueltype','carbody','drivewheel','fuelsystem'], axis=1)\n",
    "df.columns"
   ]
  },
  {
   "cell_type": "code",
   "execution_count": 31,
   "id": "54e0d64c",
   "metadata": {
    "execution": {
     "iopub.execute_input": "2022-11-14T22:29:33.226700Z",
     "iopub.status.busy": "2022-11-14T22:29:33.225954Z",
     "iopub.status.idle": "2022-11-14T22:29:33.236349Z",
     "shell.execute_reply": "2022-11-14T22:29:33.235072Z"
    },
    "papermill": {
     "duration": 0.030783,
     "end_time": "2022-11-14T22:29:33.238685",
     "exception": false,
     "start_time": "2022-11-14T22:29:33.207902",
     "status": "completed"
    },
    "tags": [
     "challengify"
    ]
   },
   "outputs": [
    {
     "name": "stdout",
     "output_type": "stream",
     "text": [
      "Empty DataFrame\n",
      "Columns: []\n",
      "Index: [0, 1, 2, 3, 4, 5, 6, 7, 8, 9, 10, 11, 12, 13, 14, 15, 16, 17, 18, 19, 20, 21, 22, 23, 24, 25, 26, 27, 28, 29, 30, 31, 32, 33, 34, 35, 36, 37, 38, 39, 40, 41, 42, 43, 44, 45, 46, 47, 48, 49, 50, 51, 52, 53, 54, 55, 56, 57, 58, 59, 60, 61, 62, 63, 64, 65, 66, 67, 68, 69, 70, 71, 72, 73, 74, 75, 76, 77, 78, 79, 80, 81, 82, 83, 84, 85, 86, 87, 88, 89, 90, 91, 92, 93, 94, 95, 96, 97, 98, 99, ...]\n",
      "\n",
      "[205 rows x 0 columns]\n"
     ]
    }
   ],
   "source": [
    "# YOUR CODE HERE\n",
    "df=df.drop(['CarName','doornumber'], axis=1)\n",
    "categ = df.select_dtypes(exclude='number')\n",
    "print(categ)"
   ]
  },
  {
   "cell_type": "code",
   "execution_count": 32,
   "id": "c657cdd2",
   "metadata": {
    "execution": {
     "iopub.execute_input": "2022-11-14T22:29:33.274154Z",
     "iopub.status.busy": "2022-11-14T22:29:33.272947Z",
     "iopub.status.idle": "2022-11-14T22:29:34.276132Z",
     "shell.execute_reply": "2022-11-14T22:29:34.274597Z"
    },
    "papermill": {
     "duration": 1.023296,
     "end_time": "2022-11-14T22:29:34.278482",
     "exception": false,
     "start_time": "2022-11-14T22:29:33.255186",
     "status": "completed"
    },
    "tags": []
   },
   "outputs": [
    {
     "data": {
      "image/png": "[encoded data removed]",
      "text/plain": [
       "<Figure size 3000x1000 with 2 Axes>"
      ]
     },
     "metadata": {},
     "output_type": "display_data"
    },
    {
     "data": {
      "text/plain": [
       "'\\nAs we know our target is price of the car ,so now we should see the most related features to our target.Lets define the treshold 65%\\nThese features are : horsepower,enginesize,cylindernumber,curbweight,carwidth\\n\\n'"
      ]
     },
     "execution_count": 32,
     "metadata": {},
     "output_type": "execute_result"
    }
   ],
   "source": [
    "#sns.heatmap(df.corr())\n",
    "dfCorr=df.corr()\n",
    "filteredDf = dfCorr[(dfCorr >=.25)]\n",
    "plt.figure(figsize=(30,10))\n",
    "sns.heatmap(filteredDf,annot=True, cmap=\"Reds\")\n",
    "plt.show()\n",
    "'''\n",
    "As we know our target is price of the car ,so now we should see the most related features to our target.Lets define the treshold 65%\n",
    "These features are : horsepower,enginesize,cylindernumber,curbweight,carwidth\n",
    "\n",
    "'''"
   ]
  },
  {
   "cell_type": "code",
   "execution_count": 33,
   "id": "d14bba5e",
   "metadata": {
    "execution": {
     "iopub.execute_input": "2022-11-14T22:29:34.319931Z",
     "iopub.status.busy": "2022-11-14T22:29:34.319150Z",
     "iopub.status.idle": "2022-11-14T22:29:34.332985Z",
     "shell.execute_reply": "2022-11-14T22:29:34.331664Z"
    },
    "papermill": {
     "duration": 0.037069,
     "end_time": "2022-11-14T22:29:34.335618",
     "exception": false,
     "start_time": "2022-11-14T22:29:34.298549",
     "status": "completed"
    },
    "tags": []
   },
   "outputs": [
    {
     "data": {
      "text/html": [
       "<div>\n",
       "<style scoped>\n",
       "    .dataframe tbody tr th:only-of-type {\n",
       "        vertical-align: middle;\n",
       "    }\n",
       "\n",
       "    .dataframe tbody tr th {\n",
       "        vertical-align: top;\n",
       "    }\n",
       "\n",
       "    .dataframe thead th {\n",
       "        text-align: right;\n",
       "    }\n",
       "</style>\n",
       "<table border=\"1\" class=\"dataframe\">\n",
       "  <thead>\n",
       "    <tr style=\"text-align: right;\">\n",
       "      <th></th>\n",
       "      <th>carwidth</th>\n",
       "      <th>curbweight</th>\n",
       "      <th>cylindernumber</th>\n",
       "      <th>enginesize</th>\n",
       "      <th>horsepower</th>\n",
       "    </tr>\n",
       "  </thead>\n",
       "  <tbody>\n",
       "    <tr>\n",
       "      <th>0</th>\n",
       "      <td>-0.500000</td>\n",
       "      <td>-0.014566</td>\n",
       "      <td>4</td>\n",
       "      <td>130</td>\n",
       "      <td>111</td>\n",
       "    </tr>\n",
       "    <tr>\n",
       "      <th>1</th>\n",
       "      <td>-0.500000</td>\n",
       "      <td>-0.014566</td>\n",
       "      <td>4</td>\n",
       "      <td>130</td>\n",
       "      <td>111</td>\n",
       "    </tr>\n",
       "    <tr>\n",
       "      <th>2</th>\n",
       "      <td>0.000000</td>\n",
       "      <td>0.514882</td>\n",
       "      <td>6</td>\n",
       "      <td>152</td>\n",
       "      <td>154</td>\n",
       "    </tr>\n",
       "    <tr>\n",
       "      <th>3</th>\n",
       "      <td>0.250000</td>\n",
       "      <td>-0.420797</td>\n",
       "      <td>4</td>\n",
       "      <td>109</td>\n",
       "      <td>102</td>\n",
       "    </tr>\n",
       "    <tr>\n",
       "      <th>4</th>\n",
       "      <td>0.321429</td>\n",
       "      <td>0.516807</td>\n",
       "      <td>5</td>\n",
       "      <td>136</td>\n",
       "      <td>115</td>\n",
       "    </tr>\n",
       "  </tbody>\n",
       "</table>\n",
       "</div>"
      ],
      "text/plain": [
       "   carwidth  curbweight  cylindernumber  enginesize  horsepower\n",
       "0 -0.500000   -0.014566               4         130         111\n",
       "1 -0.500000   -0.014566               4         130         111\n",
       "2  0.000000    0.514882               6         152         154\n",
       "3  0.250000   -0.420797               4         109         102\n",
       "4  0.321429    0.516807               5         136         115"
      ]
     },
     "execution_count": 33,
     "metadata": {},
     "output_type": "execute_result"
    }
   ],
   "source": [
    "fixed_columns=['horsepower','enginesize','cylindernumber','curbweight','carwidth']\n",
    "all_columns=list(df.columns)\n",
    "new_df=df.drop([item for item in all_columns if item not in fixed_columns], axis=1)\n",
    "new_df.head()"
   ]
  },
  {
   "cell_type": "markdown",
   "id": "83fc2de6",
   "metadata": {
    "papermill": {
     "duration": 0.018664,
     "end_time": "2022-11-14T22:29:34.372725",
     "exception": false,
     "start_time": "2022-11-14T22:29:34.354061",
     "status": "completed"
    },
    "tags": []
   },
   "source": [
    "ℹ️ Out of the highly correlated feature pairs, remove the one with less granularity."
   ]
  },
  {
   "cell_type": "markdown",
   "id": "d0370246",
   "metadata": {
    "papermill": {
     "duration": 0.018243,
     "end_time": "2022-11-14T22:29:34.409554",
     "exception": false,
     "start_time": "2022-11-14T22:29:34.391311",
     "status": "completed"
    },
    "tags": []
   },
   "source": [
    "# Base Modelling"
   ]
  },
  {
   "cell_type": "markdown",
   "id": "99697cd9",
   "metadata": {
    "papermill": {
     "duration": 0.018262,
     "end_time": "2022-11-14T22:29:34.446451",
     "exception": false,
     "start_time": "2022-11-14T22:29:34.428189",
     "status": "completed"
    },
    "tags": []
   },
   "source": [
    "👇 Cross validate a Logistic regression model. Save its score under variable name `base_model_score`."
   ]
  },
  {
   "cell_type": "code",
   "execution_count": 34,
   "id": "edf5db95",
   "metadata": {
    "execution": {
     "iopub.execute_input": "2022-11-14T22:29:34.485243Z",
     "iopub.status.busy": "2022-11-14T22:29:34.484804Z",
     "iopub.status.idle": "2022-11-14T22:29:34.736659Z",
     "shell.execute_reply": "2022-11-14T22:29:34.735216Z"
    },
    "papermill": {
     "duration": 0.274268,
     "end_time": "2022-11-14T22:29:34.739273",
     "exception": false,
     "start_time": "2022-11-14T22:29:34.465005",
     "status": "completed"
    },
    "tags": []
   },
   "outputs": [
    {
     "name": "stdout",
     "output_type": "stream",
     "text": [
      "     carwidth  curbweight  cylindernumber  enginesize  horsepower\n",
      "0   -0.500000   -0.014566               4         130         111\n",
      "1   -0.500000   -0.014566               4         130         111\n",
      "2    0.000000    0.514882               6         152         154\n",
      "3    0.250000   -0.420797               4         109         102\n",
      "4    0.321429    0.516807               5         136         115\n",
      "..        ...         ...             ...         ...         ...\n",
      "200  1.214286    0.763241               4         141         114\n",
      "201  1.178571    0.949992               4         141         160\n",
      "202  1.214286    0.878757               6         173         134\n",
      "203  1.214286    1.273437               6         145         106\n",
      "204  1.214286    0.975021               4         141         114\n",
      "\n",
      "[205 rows x 5 columns]\n",
      "     horsepower  enginesize  cylindernumber  curbweight  carwidth\n",
      "136         160         121               4    0.486003  0.357143\n",
      "31           76          92               4   -1.418085 -0.571429\n",
      "170         116         146               4    0.237644  0.035714\n",
      "37           86         110               4   -0.615249 -0.107143\n",
      "204         114         141               4    0.975021  1.214286\n",
      "..          ...         ...             ...         ...       ...\n",
      "80          116         110               4   -0.357264 -0.035714\n",
      "56          101          70               2   -0.338011  0.071429\n",
      "158          56         110               4   -0.540164 -0.392857\n",
      "47          176         258               6    2.907988  1.464286\n",
      "90           55         103               4   -1.036883 -0.607143\n",
      "\n",
      "[180 rows x 5 columns]\n",
      "my mean score is  0.9199999999999999\n"
     ]
    }
   ],
   "source": [
    "# YOUR CODE HERE\n",
    "from sklearn.linear_model import LogisticRegression\n",
    "from sklearn.model_selection import train_test_split\n",
    "from sklearn.model_selection import cross_validate\n",
    "from sklearn import preprocessing\n",
    "\n",
    "print(new_df)\n",
    "X_train, X_test, y_train, y_test = train_test_split(df[['horsepower','enginesize','cylindernumber','curbweight','carwidth']], df['price'], test_size=25)\n",
    "\n",
    "logr = LogisticRegression()\n",
    "print(X_train)\n",
    "fitted=logr.fit(X_train,y_train)\n",
    "cv_results = cross_validate(fitted, X_test,y_test )\n",
    "score=cv_results['test_score'].mean()\n",
    "\n",
    "print('my mean score is ',score)"
   ]
  },
  {
   "cell_type": "markdown",
   "id": "e2829a24",
   "metadata": {
    "papermill": {
     "duration": 0.018217,
     "end_time": "2022-11-14T22:29:34.776921",
     "exception": false,
     "start_time": "2022-11-14T22:29:34.758704",
     "status": "completed"
    },
    "tags": []
   },
   "source": [
    "# Feature Selection"
   ]
  },
  {
   "cell_type": "markdown",
   "id": "fcff7ba1",
   "metadata": {
    "papermill": {
     "duration": 0.018355,
     "end_time": "2022-11-14T22:29:34.813986",
     "exception": false,
     "start_time": "2022-11-14T22:29:34.795631",
     "status": "completed"
    },
    "tags": []
   },
   "source": [
    "👇 Perform feature permutation to remove the weak features from the feature set. With that strong feature set, cross-validate a new model, and save its score under variable name `strong_model_score`."
   ]
  },
  {
   "cell_type": "code",
   "execution_count": 35,
   "id": "5e6eadc1",
   "metadata": {
    "execution": {
     "iopub.execute_input": "2022-11-14T22:29:34.854002Z",
     "iopub.status.busy": "2022-11-14T22:29:34.853314Z",
     "iopub.status.idle": "2022-11-14T22:29:34.859473Z",
     "shell.execute_reply": "2022-11-14T22:29:34.858340Z"
    },
    "papermill": {
     "duration": 0.028628,
     "end_time": "2022-11-14T22:29:34.861672",
     "exception": false,
     "start_time": "2022-11-14T22:29:34.833044",
     "status": "completed"
    },
    "tags": [
     "challengify"
    ]
   },
   "outputs": [
    {
     "data": {
      "text/plain": [
       "\"\\nSo let's try to increase our treshold to 75%.Npw we should get rid of some columns like carwidth and cylindrnumber ,so our final X will be :\\n\\n'horsepower','enginesize','curbweight'\\n\\n\""
      ]
     },
     "execution_count": 35,
     "metadata": {},
     "output_type": "execute_result"
    }
   ],
   "source": [
    "# YOUR CODE HERE\n",
    "'''\n",
    "So let's try to increase our treshold to 75%.Npw we should get rid of some columns like carwidth and cylindrnumber ,so our final X will be :\n",
    "\n",
    "'horsepower','enginesize','curbweight'\n",
    "\n",
    "'''"
   ]
  },
  {
   "cell_type": "code",
   "execution_count": 36,
   "id": "b80374ee",
   "metadata": {
    "execution": {
     "iopub.execute_input": "2022-11-14T22:29:34.902261Z",
     "iopub.status.busy": "2022-11-14T22:29:34.901556Z",
     "iopub.status.idle": "2022-11-14T22:29:34.996853Z",
     "shell.execute_reply": "2022-11-14T22:29:34.995458Z"
    },
    "papermill": {
     "duration": 0.118991,
     "end_time": "2022-11-14T22:29:35.000122",
     "exception": false,
     "start_time": "2022-11-14T22:29:34.881131",
     "status": "completed"
    },
    "tags": [
     "delete"
    ]
   },
   "outputs": [
    {
     "name": "stdout",
     "output_type": "stream",
     "text": [
      "     horsepower  enginesize  curbweight\n",
      "179         161         171    0.886458\n",
      "6           110         136    0.555313\n",
      "47          176         258    2.907988\n",
      "145         111         108   -0.087726\n",
      "83          145         156    0.703558\n",
      "..          ...         ...         ...\n",
      "12          121         164    0.297327\n",
      "196         114         141    0.730512\n",
      "185          85         109   -0.661456\n",
      "133         110         121    0.268448\n",
      "50           68          91   -1.281391\n",
      "\n",
      "[180 rows x 3 columns]\n",
      "my mean score is  0.9199999999999999\n"
     ]
    }
   ],
   "source": [
    "# YOUR CODE HERE\n",
    "X_train, X_test, y_train, y_test = train_test_split(df[['horsepower','enginesize','curbweight']], df['price'], test_size=25)\n",
    "\n",
    "logr = LogisticRegression()\n",
    "print(X_train)\n",
    "fitted=logr.fit(X_train,y_train)\n",
    "cv_results = cross_validate(fitted, X_test,y_test )\n",
    "strong_model_score=cv_results['test_score'].mean()\n",
    "\n",
    "print('my mean score is ',strong_model_score)"
   ]
  },
  {
   "cell_type": "markdown",
   "id": "7ca1dfcb",
   "metadata": {
    "papermill": {
     "duration": 0.018675,
     "end_time": "2022-11-14T22:29:35.038850",
     "exception": false,
     "start_time": "2022-11-14T22:29:35.020175",
     "status": "completed"
    },
    "tags": []
   },
   "source": [
    "# 🏁"
   ]
  },
  {
   "cell_type": "markdown",
   "id": "9562d32f",
   "metadata": {},
   "source": []
  }
 ],
 "metadata": {
  "kernelspec": {
   "display_name": "Python 3",
   "language": "python",
   "name": "python3"
  },
  "language_info": {
   "codemirror_mode": {
    "name": "ipython",
    "version": 3
   },
   "file_extension": ".py",
   "mimetype": "text/x-python",
   "name": "python",
   "nbconvert_exporter": "python",
   "pygments_lexer": "ipython3",
   "version": "3.11.1"
  },
  "papermill": {
   "default_parameters": {},
   "duration": 16.794083,
   "end_time": "2022-11-14T22:29:35.880766",
   "environment_variables": {},
   "exception": null,
   "input_path": "__notebook__.ipynb",
   "output_path": "__notebook__.ipynb",
   "parameters": {},
   "start_time": "2022-11-14T22:29:19.086683",
   "version": "2.3.4"
  },
  "vscode": {
   "interpreter": {
    "hash": "2469a70536e4d2335a2ea8907942d0699c37342a371ac185bdb5b0aa6f073890"
   }
  }
 },
 "nbformat": 4,
 "nbformat_minor": 5
}
